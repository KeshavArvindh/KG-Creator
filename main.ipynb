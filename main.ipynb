{
  "nbformat": 4,
  "nbformat_minor": 0,
  "metadata": {
    "colab": {
      "provenance": []
    },
    "kernelspec": {
      "name": "python3",
      "display_name": "Python 3"
    },
    "language_info": {
      "name": "python"
    }
  },
  "cells": [
    {
      "cell_type": "code",
      "execution_count": null,
      "metadata": {
        "colab": {
          "base_uri": "https://localhost:8080/"
        },
        "id": "NJqfJRnI-VD5",
        "outputId": "6405a8ba-4a25-454f-c693-bc3ac29e239a"
      },
      "outputs": [
        {
          "output_type": "stream",
          "name": "stdout",
          "text": [
            "Requirement already satisfied: google-generativeai in /usr/local/lib/python3.10/dist-packages (0.8.3)\n",
            "Requirement already satisfied: google-ai-generativelanguage==0.6.10 in /usr/local/lib/python3.10/dist-packages (from google-generativeai) (0.6.10)\n",
            "Requirement already satisfied: google-api-core in /usr/local/lib/python3.10/dist-packages (from google-generativeai) (2.19.2)\n",
            "Requirement already satisfied: google-api-python-client in /usr/local/lib/python3.10/dist-packages (from google-generativeai) (2.155.0)\n",
            "Requirement already satisfied: google-auth>=2.15.0 in /usr/local/lib/python3.10/dist-packages (from google-generativeai) (2.27.0)\n",
            "Requirement already satisfied: protobuf in /usr/local/lib/python3.10/dist-packages (from google-generativeai) (4.25.5)\n",
            "Requirement already satisfied: pydantic in /usr/local/lib/python3.10/dist-packages (from google-generativeai) (2.10.4)\n",
            "Requirement already satisfied: tqdm in /usr/local/lib/python3.10/dist-packages (from google-generativeai) (4.67.1)\n",
            "Requirement already satisfied: typing-extensions in /usr/local/lib/python3.10/dist-packages (from google-generativeai) (4.12.2)\n",
            "Requirement already satisfied: proto-plus<2.0.0dev,>=1.22.3 in /usr/local/lib/python3.10/dist-packages (from google-ai-generativelanguage==0.6.10->google-generativeai) (1.25.0)\n",
            "Requirement already satisfied: googleapis-common-protos<2.0.dev0,>=1.56.2 in /usr/local/lib/python3.10/dist-packages (from google-api-core->google-generativeai) (1.66.0)\n",
            "Requirement already satisfied: requests<3.0.0.dev0,>=2.18.0 in /usr/local/lib/python3.10/dist-packages (from google-api-core->google-generativeai) (2.32.3)\n",
            "Requirement already satisfied: cachetools<6.0,>=2.0.0 in /usr/local/lib/python3.10/dist-packages (from google-auth>=2.15.0->google-generativeai) (5.5.0)\n",
            "Requirement already satisfied: pyasn1-modules>=0.2.1 in /usr/local/lib/python3.10/dist-packages (from google-auth>=2.15.0->google-generativeai) (0.4.1)\n",
            "Requirement already satisfied: rsa<5,>=3.1.4 in /usr/local/lib/python3.10/dist-packages (from google-auth>=2.15.0->google-generativeai) (4.9)\n",
            "Requirement already satisfied: httplib2<1.dev0,>=0.19.0 in /usr/local/lib/python3.10/dist-packages (from google-api-python-client->google-generativeai) (0.22.0)\n",
            "Requirement already satisfied: google-auth-httplib2<1.0.0,>=0.2.0 in /usr/local/lib/python3.10/dist-packages (from google-api-python-client->google-generativeai) (0.2.0)\n",
            "Requirement already satisfied: uritemplate<5,>=3.0.1 in /usr/local/lib/python3.10/dist-packages (from google-api-python-client->google-generativeai) (4.1.1)\n",
            "Requirement already satisfied: annotated-types>=0.6.0 in /usr/local/lib/python3.10/dist-packages (from pydantic->google-generativeai) (0.7.0)\n",
            "Requirement already satisfied: pydantic-core==2.27.2 in /usr/local/lib/python3.10/dist-packages (from pydantic->google-generativeai) (2.27.2)\n",
            "Requirement already satisfied: grpcio<2.0dev,>=1.33.2 in /usr/local/lib/python3.10/dist-packages (from google-api-core[grpc]!=2.0.*,!=2.1.*,!=2.10.*,!=2.2.*,!=2.3.*,!=2.4.*,!=2.5.*,!=2.6.*,!=2.7.*,!=2.8.*,!=2.9.*,<3.0.0dev,>=1.34.1->google-ai-generativelanguage==0.6.10->google-generativeai) (1.69.0)\n",
            "Requirement already satisfied: grpcio-status<2.0.dev0,>=1.33.2 in /usr/local/lib/python3.10/dist-packages (from google-api-core[grpc]!=2.0.*,!=2.1.*,!=2.10.*,!=2.2.*,!=2.3.*,!=2.4.*,!=2.5.*,!=2.6.*,!=2.7.*,!=2.8.*,!=2.9.*,<3.0.0dev,>=1.34.1->google-ai-generativelanguage==0.6.10->google-generativeai) (1.62.3)\n",
            "Requirement already satisfied: pyparsing!=3.0.0,!=3.0.1,!=3.0.2,!=3.0.3,<4,>=2.4.2 in /usr/local/lib/python3.10/dist-packages (from httplib2<1.dev0,>=0.19.0->google-api-python-client->google-generativeai) (3.2.1)\n",
            "Requirement already satisfied: pyasn1<0.7.0,>=0.4.6 in /usr/local/lib/python3.10/dist-packages (from pyasn1-modules>=0.2.1->google-auth>=2.15.0->google-generativeai) (0.6.1)\n",
            "Requirement already satisfied: charset-normalizer<4,>=2 in /usr/local/lib/python3.10/dist-packages (from requests<3.0.0.dev0,>=2.18.0->google-api-core->google-generativeai) (3.4.1)\n",
            "Requirement already satisfied: idna<4,>=2.5 in /usr/local/lib/python3.10/dist-packages (from requests<3.0.0.dev0,>=2.18.0->google-api-core->google-generativeai) (3.10)\n",
            "Requirement already satisfied: urllib3<3,>=1.21.1 in /usr/local/lib/python3.10/dist-packages (from requests<3.0.0.dev0,>=2.18.0->google-api-core->google-generativeai) (2.3.0)\n",
            "Requirement already satisfied: certifi>=2017.4.17 in /usr/local/lib/python3.10/dist-packages (from requests<3.0.0.dev0,>=2.18.0->google-api-core->google-generativeai) (2024.12.14)\n"
          ]
        }
      ],
      "source": [
        "pip install google-generativeai"
      ]
    },
    {
      "cell_type": "markdown",
      "source": [
        "STEP - 1\n",
        "\n",
        "> Generate entites,relationships,etc from dataset\n",
        "\n"
      ],
      "metadata": {
        "id": "Dg_zZ_NLDCUx"
      }
    },
    {
      "cell_type": "code",
      "source": [
        "import os\n",
        "import pandas as pd\n",
        "import google.generativeai as genai\n",
        "\n",
        "genai.configure(api_key=\"ur_key\")\n",
        "\n",
        "def analyze_dataset(dataset_path):\n",
        "    \"\"\"\n",
        "    Analyzes a dataset using the Gemini API to generate entities, relationships, and attributes.\n",
        "\n",
        "    Args:\n",
        "        dataset_path: Path to the dataset file (e.g., CSV, Excel).\n",
        "\n",
        "    Returns:\n",
        "        A string containing the Gemini API's response, or None if an error occurs.\n",
        "    \"\"\"\n",
        "    try:\n",
        "        if dataset_path.endswith(\".csv\"):\n",
        "            df = pd.read_csv(dataset_path)\n",
        "        elif dataset_path.endswith((\".xls\", \".xlsx\")):\n",
        "            df = pd.read_excel(dataset_path)\n",
        "        else:\n",
        "            raise ValueError(\"Unsupported file format. Please provide a CSV or Excel file.\")\n",
        "\n",
        "        column_names = df.columns.tolist()\n",
        "        first_row = df.iloc[0].to_dict() if not df.empty else {}\n",
        "\n",
        "        prompt = f\"\"\"\n",
        "        Analyze the following dataset information and generate entities, relationships, and attributes\n",
        "        suitable for creating a knowledge graph using Cypher commands. I do not need the cypher commands but only the data required to generate the graph.\n",
        "\n",
        "        Column Names: {column_names}\n",
        "        First Row of Data: {first_row}\n",
        "\n",
        "        Consider the data types and potential relationships between columns. Take the below as an example and provide your response in a structured format, like this:\n",
        "\n",
        "        Entities:\n",
        "        - Entity 1: Description (e.g., Person: Represents an individual)\n",
        "        - Entity 2: ...\n",
        "\n",
        "        Relationships:\n",
        "        - Relationship 1: Description (e.g., HAS_ADDRESS: Connects a Person to an Address)\n",
        "        - Relationship 2: ...\n",
        "\n",
        "        Attributes:\n",
        "        - Attribute 1: Description and Entity/Relationship it belongs to (e.g., name: The name of a Person)\n",
        "        - Attribute 2: ...\n",
        "\n",
        "        Example (based on a dataset with columns 'name', 'age', 'city'):\n",
        "        Entities:\n",
        "        - Person: Represents an individual\n",
        "        - City: Represents a location\n",
        "\n",
        "        Relationships:\n",
        "        - LIVES_IN: Connects a Person to a City\n",
        "\n",
        "        Attributes:\n",
        "        - name: The name of a Person\n",
        "        - age: The age of a Person\n",
        "        - cityName: The name of a City\n",
        "        \"\"\"\n",
        "\n",
        "        model = genai.GenerativeModel(\"gemini-1.5-flash\")\n",
        "        response = model.generate_content(prompt)\n",
        "        return response.text\n",
        "\n",
        "    except FileNotFoundError:\n",
        "        return \"Error: Dataset file not found.\"\n",
        "    except ValueError as e:\n",
        "        return f\"Error: {e}\"\n",
        "    except Exception as e:\n",
        "        return f\"An unexpected error occurred: {e}\"\n",
        "\n",
        "dataset_file = \"tags.csv\"\n",
        "analysis_result = analyze_dataset(dataset_file)\n",
        "\n",
        "if analysis_result:\n",
        "    print(analysis_result)\n",
        "else:\n",
        "    print(\"Dataset analysis failed.\")"
      ],
      "metadata": {
        "colab": {
          "base_uri": "https://localhost:8080/",
          "height": 312
        },
        "id": "D8TQNqR5AvoW",
        "outputId": "8ed3eb79-c74e-46b8-df3d-ff6d3c49cc64"
      },
      "execution_count": null,
      "outputs": [
        {
          "output_type": "stream",
          "name": "stdout",
          "text": [
            "Entities:\n",
            "- User: Represents a user of the movie tagging system.\n",
            "- Movie: Represents a movie.\n",
            "- Tag: Represents a tag applied to a movie.\n",
            "\n",
            "\n",
            "Relationships:\n",
            "- TAGGED: Connects a User to a Movie through a Tag.  This represents the act of a user applying a tag to a movie.\n",
            "\n",
            "\n",
            "Attributes:\n",
            "- userId: The unique identifier of a User. (Entity: User)\n",
            "- movieId: The unique identifier of a Movie. (Entity: Movie)\n",
            "- tag: The text of the tag. (Entity: Tag)\n",
            "- timestamp: The Unix timestamp indicating when the tag was applied. (Relationship: TAGGED)\n",
            "\n",
            "\n"
          ]
        }
      ]
    },
    {
      "cell_type": "markdown",
      "source": [
        "STEP - 2\n",
        "\n",
        "> Connect cypher to python\n",
        "\n"
      ],
      "metadata": {
        "id": "u3gOGa7BDQGz"
      }
    },
    {
      "cell_type": "code",
      "source": [
        "!pip install py2neo networkx matplotlib pyvis"
      ],
      "metadata": {
        "id": "NAA7p8FdB6tp",
        "colab": {
          "base_uri": "https://localhost:8080/"
        },
        "outputId": "ffd39126-100d-4a84-e266-841b4367c8cf"
      },
      "execution_count": null,
      "outputs": [
        {
          "output_type": "stream",
          "name": "stdout",
          "text": [
            "Collecting py2neo\n",
            "  Downloading py2neo-2021.2.4-py2.py3-none-any.whl.metadata (9.9 kB)\n",
            "Requirement already satisfied: networkx in /usr/local/lib/python3.10/dist-packages (3.4.2)\n",
            "Requirement already satisfied: matplotlib in /usr/local/lib/python3.10/dist-packages (3.10.0)\n",
            "Collecting pyvis\n",
            "  Downloading pyvis-0.3.2-py3-none-any.whl.metadata (1.7 kB)\n",
            "Requirement already satisfied: certifi in /usr/local/lib/python3.10/dist-packages (from py2neo) (2024.12.14)\n",
            "Collecting interchange~=2021.0.4 (from py2neo)\n",
            "  Downloading interchange-2021.0.4-py2.py3-none-any.whl.metadata (1.9 kB)\n",
            "Collecting monotonic (from py2neo)\n",
            "  Downloading monotonic-1.6-py2.py3-none-any.whl.metadata (1.5 kB)\n",
            "Requirement already satisfied: packaging in /usr/local/lib/python3.10/dist-packages (from py2neo) (24.2)\n",
            "Collecting pansi>=2020.7.3 (from py2neo)\n",
            "  Downloading pansi-2024.11.0-py2.py3-none-any.whl.metadata (3.1 kB)\n",
            "Requirement already satisfied: pygments>=2.0.0 in /usr/local/lib/python3.10/dist-packages (from py2neo) (2.18.0)\n",
            "Requirement already satisfied: six>=1.15.0 in /usr/local/lib/python3.10/dist-packages (from py2neo) (1.17.0)\n",
            "Requirement already satisfied: urllib3 in /usr/local/lib/python3.10/dist-packages (from py2neo) (2.3.0)\n",
            "Requirement already satisfied: contourpy>=1.0.1 in /usr/local/lib/python3.10/dist-packages (from matplotlib) (1.3.1)\n",
            "Requirement already satisfied: cycler>=0.10 in /usr/local/lib/python3.10/dist-packages (from matplotlib) (0.12.1)\n",
            "Requirement already satisfied: fonttools>=4.22.0 in /usr/local/lib/python3.10/dist-packages (from matplotlib) (4.55.3)\n",
            "Requirement already satisfied: kiwisolver>=1.3.1 in /usr/local/lib/python3.10/dist-packages (from matplotlib) (1.4.8)\n",
            "Requirement already satisfied: numpy>=1.23 in /usr/local/lib/python3.10/dist-packages (from matplotlib) (1.26.4)\n",
            "Requirement already satisfied: pillow>=8 in /usr/local/lib/python3.10/dist-packages (from matplotlib) (11.1.0)\n",
            "Requirement already satisfied: pyparsing>=2.3.1 in /usr/local/lib/python3.10/dist-packages (from matplotlib) (3.2.1)\n",
            "Requirement already satisfied: python-dateutil>=2.7 in /usr/local/lib/python3.10/dist-packages (from matplotlib) (2.8.2)\n",
            "Requirement already satisfied: ipython>=5.3.0 in /usr/local/lib/python3.10/dist-packages (from pyvis) (7.34.0)\n",
            "Requirement already satisfied: jinja2>=2.9.6 in /usr/local/lib/python3.10/dist-packages (from pyvis) (3.1.5)\n",
            "Requirement already satisfied: jsonpickle>=1.4.1 in /usr/local/lib/python3.10/dist-packages (from pyvis) (4.0.1)\n",
            "Requirement already satisfied: pytz in /usr/local/lib/python3.10/dist-packages (from interchange~=2021.0.4->py2neo) (2024.2)\n",
            "Requirement already satisfied: setuptools>=18.5 in /usr/local/lib/python3.10/dist-packages (from ipython>=5.3.0->pyvis) (75.1.0)\n",
            "Collecting jedi>=0.16 (from ipython>=5.3.0->pyvis)\n",
            "  Downloading jedi-0.19.2-py2.py3-none-any.whl.metadata (22 kB)\n",
            "Requirement already satisfied: decorator in /usr/local/lib/python3.10/dist-packages (from ipython>=5.3.0->pyvis) (4.4.2)\n",
            "Requirement already satisfied: pickleshare in /usr/local/lib/python3.10/dist-packages (from ipython>=5.3.0->pyvis) (0.7.5)\n",
            "Requirement already satisfied: traitlets>=4.2 in /usr/local/lib/python3.10/dist-packages (from ipython>=5.3.0->pyvis) (5.7.1)\n",
            "Requirement already satisfied: prompt-toolkit!=3.0.0,!=3.0.1,<3.1.0,>=2.0.0 in /usr/local/lib/python3.10/dist-packages (from ipython>=5.3.0->pyvis) (3.0.48)\n",
            "Requirement already satisfied: backcall in /usr/local/lib/python3.10/dist-packages (from ipython>=5.3.0->pyvis) (0.2.0)\n",
            "Requirement already satisfied: matplotlib-inline in /usr/local/lib/python3.10/dist-packages (from ipython>=5.3.0->pyvis) (0.1.7)\n",
            "Requirement already satisfied: pexpect>4.3 in /usr/local/lib/python3.10/dist-packages (from ipython>=5.3.0->pyvis) (4.9.0)\n",
            "Requirement already satisfied: MarkupSafe>=2.0 in /usr/local/lib/python3.10/dist-packages (from jinja2>=2.9.6->pyvis) (3.0.2)\n",
            "Requirement already satisfied: parso<0.9.0,>=0.8.4 in /usr/local/lib/python3.10/dist-packages (from jedi>=0.16->ipython>=5.3.0->pyvis) (0.8.4)\n",
            "Requirement already satisfied: ptyprocess>=0.5 in /usr/local/lib/python3.10/dist-packages (from pexpect>4.3->ipython>=5.3.0->pyvis) (0.7.0)\n",
            "Requirement already satisfied: wcwidth in /usr/local/lib/python3.10/dist-packages (from prompt-toolkit!=3.0.0,!=3.0.1,<3.1.0,>=2.0.0->ipython>=5.3.0->pyvis) (0.2.13)\n",
            "Downloading py2neo-2021.2.4-py2.py3-none-any.whl (177 kB)\n",
            "\u001b[2K   \u001b[90m━━━━━━━━━━━━━━━━━━━━━━━━━━━━━━━━━━━━━━━━\u001b[0m \u001b[32m177.2/177.2 kB\u001b[0m \u001b[31m6.9 MB/s\u001b[0m eta \u001b[36m0:00:00\u001b[0m\n",
            "\u001b[?25hDownloading pyvis-0.3.2-py3-none-any.whl (756 kB)\n",
            "\u001b[2K   \u001b[90m━━━━━━━━━━━━━━━━━━━━━━━━━━━━━━━━━━━━━━━━\u001b[0m \u001b[32m756.0/756.0 kB\u001b[0m \u001b[31m28.1 MB/s\u001b[0m eta \u001b[36m0:00:00\u001b[0m\n",
            "\u001b[?25hDownloading interchange-2021.0.4-py2.py3-none-any.whl (28 kB)\n",
            "Downloading pansi-2024.11.0-py2.py3-none-any.whl (26 kB)\n",
            "Downloading monotonic-1.6-py2.py3-none-any.whl (8.2 kB)\n",
            "Downloading jedi-0.19.2-py2.py3-none-any.whl (1.6 MB)\n",
            "\u001b[2K   \u001b[90m━━━━━━━━━━━━━━━━━━━━━━━━━━━━━━━━━━━━━━━━\u001b[0m \u001b[32m1.6/1.6 MB\u001b[0m \u001b[31m60.4 MB/s\u001b[0m eta \u001b[36m0:00:00\u001b[0m\n",
            "\u001b[?25hInstalling collected packages: monotonic, pansi, jedi, interchange, py2neo, pyvis\n",
            "Successfully installed interchange-2021.0.4 jedi-0.19.2 monotonic-1.6 pansi-2024.11.0 py2neo-2021.2.4 pyvis-0.3.2\n"
          ]
        }
      ]
    },
    {
      "cell_type": "code",
      "source": [
        "prompt = f\"\"\"\n",
        "        Analyze the following dataset information and generate Cypher commands to create a knowledge graph.\n",
        "        Provide each Cypher command as a single line. Make the cypher commands simple. Give the most appropriate values for parameters that require it.\n",
        "\n",
        "        dataset information = {analysis_result}\n",
        "\n",
        "        Example (based on a dataset with columns 'name', 'age', 'city'):\n",
        "        CREATE (:Person {{name: 'John Doe', age: 30}})-[:LIVES_IN]->(:City {{cityName: 'New York'}});\n",
        "\n",
        "        Example (based on Movie dataset with columns 'movieId', 'title', 'genres'):\n",
        "        CREATE (:Movie {{movieId: 1, title: 'Toy Story'}})-[:HAS_GENRE]->(:Genre {{genreName: 'Animation'}});\n",
        "        CREATE (:Movie {{movieId: 1, title: 'Toy Story'}})-[:HAS_GENRE]->(:Genre {{genreName: 'Children\\'s'}});\n",
        "        CREATE (:Movie {{movieId: 1, title: 'Toy Story'}})-[:HAS_GENRE]->(:Genre {{genreName: 'Comedy'}});\n",
        "        \"\"\"\n",
        "model = genai.GenerativeModel(\"gemini-1.5-flash\")\n",
        "new_response = model.generate_content(prompt)\n",
        "print(new_response.text)"
      ],
      "metadata": {
        "colab": {
          "base_uri": "https://localhost:8080/",
          "height": 121
        },
        "id": "xDDvvMMkiWQZ",
        "outputId": "e3eab068-aeee-4d2c-c3fa-efd779e949bb"
      },
      "execution_count": null,
      "outputs": [
        {
          "output_type": "stream",
          "name": "stdout",
          "text": [
            "CREATE (:User {userId: 1});\n",
            "CREATE (:Movie {movieId: 1});\n",
            "CREATE (:Tag {tag: \"Action\"});\n",
            "CREATE (:User {userId: 1})-[:TAGGED {timestamp: 1678886400}]->(:Movie {movieId: 1})-[:HAS_TAG]->(:Tag {tag: \"Action\"});\n",
            "\n",
            "\n"
          ]
        }
      ]
    },
    {
      "cell_type": "code",
      "source": [
        "from py2neo import Graph\n",
        "\n",
        "uri = \"your_neo4j_id"\n",
        "username = \"your_username_id\"\n",
        "password = \"your_password"\n",
        "\n",
        "graph = Graph(uri, auth=(username, password))\n",
        "try:\n",
        "    graph.run(\"RETURN 'Connection successful' AS message\")\n",
        "    print(\"Connected to Neo4j successfully!\")\n",
        "except Exception as e:\n",
        "    print(f\"Connection failed: {e}\")\n",
        "\n",
        "cypher_query = new_response.text\n",
        "cypher_queries = cypher_query.split(\"\\n\")\n",
        "\n",
        "def debug_cypher_with_gemini(error_message, query):\n",
        "    prompt = f\"\"\"\n",
        "    The following Cypher query resulted in an error:\n",
        "    Query: {query}\n",
        "    Error: {error_message}\n",
        "\n",
        "    Please debug the query and ONLY provide the corrected Cypher query as output, ensuring no additional explanations.\n",
        "    \"\"\"\n",
        "    model = genai.GenerativeModel(\"gemini-1.5-flash\")\n",
        "    new_response = model.generate_content(prompt)\n",
        "    updated_query = new_response.text\n",
        "    return updated_query\n",
        "\n",
        "for query in cypher_queries:\n",
        "    if query.strip():\n",
        "        while True:\n",
        "            try:\n",
        "                graph.run(query)\n",
        "                break\n",
        "            except Exception as e:\n",
        "                error_message = str(e)\n",
        "                print(f\"Error encountered: {error_message}\")\n",
        "                print(\"Sending error to Gemini API for debugging...\")\n",
        "                query = debug_cypher_with_gemini(error_message, query)\n",
        "                print(f\"Updated query received: {query}\")\n",
        "\n",
        "\n"
      ],
      "metadata": {
        "colab": {
          "base_uri": "https://localhost:8080/"
        },
        "id": "jkxHq2G2PiaO",
        "outputId": "7ae96130-d267-4d5c-c639-9b35af434ec2"
      },
      "execution_count": null,
      "outputs": [
        {
          "output_type": "stream",
          "name": "stdout",
          "text": [
            "Connected to Neo4j successfully!\n"
          ]
        }
      ]
    },
    {
      "cell_type": "markdown",
      "source": [
        "STEP - 3\n",
        "\n",
        "> Visualize the graph created in neo4j\n",
        "\n"
      ],
      "metadata": {
        "id": "ypRt-YlPQprJ"
      }
    },
    {
      "cell_type": "code",
      "source": [
        "from py2neo import Graph\n",
        "import networkx as nx\n",
        "import matplotlib.pyplot as plt\n",
        "\n",
        "# Connect to Neo4j\n",
        "uri = \"neo4j+s://e4581b21.databases.neo4j.io\"\n",
        "username = \"neo4j\"\n",
        "password = \"8ynKa01TUaiOrkF197J8vuf-GCKg18DKGS13-0-_mfg\"\n",
        "graph = Graph(uri, auth=(username, password))\n",
        "\n",
        "# Fetch data from Neo4j\n",
        "cypher_query = \"\"\"\n",
        " MATCH (n)-[r]->(m)\n",
        "RETURN n, r, m\n",
        "\"\"\"\n",
        "result = graph.run(cypher_query).data()\n",
        "print(result)"
      ],
      "metadata": {
        "id": "J2l1AXRmQCMP",
        "colab": {
          "base_uri": "https://localhost:8080/"
        },
        "outputId": "fc1a7a53-655e-4c23-a21f-9cd4407e4ff4"
      },
      "execution_count": null,
      "outputs": [
        {
          "output_type": "stream",
          "name": "stdout",
          "text": [
            "[{'n': Node('User', userId=1), 'r': TAGGED(Node('User', userId=1), Node('Movie', movieId=1), timestamp=1678886400), 'm': Node('Movie', movieId=1)}, {'n': Node('Movie', movieId=1), 'r': HAS_TAG(Node('Movie', movieId=1), Node('Tag', tag='Action')), 'm': Node('Tag', tag='Action')}]\n"
          ]
        }
      ]
    },
    {
      "cell_type": "code",
      "source": [
        "from pyvis.network import Network\n",
        "from py2neo.data import Node, Relationship\n",
        "\n",
        "def visualize_graph_interactive(result, output_file=\"graph.html\"):\n",
        "    \"\"\"\n",
        "    Creates a professional interactive knowledge graph similar to Neo4j using pyvis.\n",
        "\n",
        "    Parameters:\n",
        "    - result: List of Neo4j query results containing nodes and relationships.\n",
        "    - output_file: Name of the HTML file to save the interactive graph.\n",
        "    \"\"\"\n",
        "    # Create a Pyvis Network graph\n",
        "    net = Network(height=\"800px\", width=\"100%\", bgcolor=\"#222222\", font_color=\"white\", directed=True, notebook = True)\n",
        "\n",
        "    # Node color mapping\n",
        "    color_map = {\"User\": \"#1f77b4\", \"Movie\": \"#ff7f0e\", \"Tag\": \"#2ca02c\"}  # Extend as needed\n",
        "\n",
        "    # Populate the graph\n",
        "    for record in result:\n",
        "        n = record.get('n')\n",
        "        m = record.get('m')\n",
        "        r = record.get('r')\n",
        "\n",
        "        # Skip if any part of the record is missing\n",
        "        if n is None or m is None or r is None:\n",
        "            continue\n",
        "\n",
        "        # Extract node details\n",
        "        n_name = f\"{list(n.labels)[0]}_{n.identity}\"\n",
        "        n_label = list(n.labels)[0]\n",
        "        n_props = dict(n)\n",
        "\n",
        "        m_name = f\"{list(m.labels)[0]}_{m.identity}\"\n",
        "        m_label = list(m.labels)[0]\n",
        "        m_props = dict(m)\n",
        "\n",
        "        # Add nodes\n",
        "        net.add_node(n_name, label=n_label, title=str(n_props), color=color_map.get(n_label, \"#d62728\"))\n",
        "        net.add_node(m_name, label=m_label, title=str(m_props), color=color_map.get(m_label, \"#d62728\"))\n",
        "\n",
        "        # Extract relationship details\n",
        "        r_type = r.__class__.__name__  # Relationship type\n",
        "        r_props = dict(r)\n",
        "\n",
        "        # Add edge\n",
        "        net.add_edge(n_name, m_name, label=r_type, title=str(r_props), color=\"#cccccc\")\n",
        "\n",
        "    # Customize physics for better layout\n",
        "    net.set_options(\"\"\"\n",
        "    var options = {\n",
        "      \"nodes\": {\n",
        "        \"shape\": \"dot\",\n",
        "        \"size\": 20,\n",
        "        \"font\": {\n",
        "          \"size\": 14,\n",
        "          \"color\": \"white\"\n",
        "        },\n",
        "        \"borderWidth\": 2\n",
        "      },\n",
        "      \"edges\": {\n",
        "        \"color\": {\n",
        "          \"color\": \"#cccccc\"\n",
        "        },\n",
        "        \"arrows\": {\n",
        "          \"to\": {\n",
        "            \"enabled\": true,\n",
        "            \"scaleFactor\": 0.5\n",
        "          }\n",
        "        },\n",
        "        \"smooth\": true\n",
        "      },\n",
        "      \"physics\": {\n",
        "        \"enabled\": true,\n",
        "        \"stabilization\": {\n",
        "          \"enabled\": true,\n",
        "          \"iterations\": 200\n",
        "        }\n",
        "      }\n",
        "    }\n",
        "    \"\"\")\n",
        "\n",
        "    net.show(output_file)\n",
        "\n",
        "visualize_graph_interactive(result)\n"
      ],
      "metadata": {
        "colab": {
          "base_uri": "https://localhost:8080/"
        },
        "id": "zUYK9HX3nMqe",
        "outputId": "67d4bdd7-81d7-4ba3-e397-04faa5f7fd77"
      },
      "execution_count": null,
      "outputs": [
        {
          "output_type": "stream",
          "name": "stdout",
          "text": [
            "Warning: When  cdn_resources is 'local' jupyter notebook has issues displaying graphics on chrome/safari. Use cdn_resources='in_line' or cdn_resources='remote' if you have issues viewing graphics in a notebook.\n",
            "graph.html\n"
          ]
        }
      ]
    },
    {
      "cell_type": "code",
      "source": [],
      "metadata": {
        "id": "-i1GVwqBGTWR"
      },
      "execution_count": null,
      "outputs": []
    }
  ]
}
